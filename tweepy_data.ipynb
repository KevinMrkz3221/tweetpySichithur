{
 "cells": [
  {
   "cell_type": "code",
   "execution_count": 2,
   "metadata": {},
   "outputs": [],
   "source": [
    "import tweepy\n",
    "import controllers"
   ]
  },
  {
   "cell_type": "code",
   "execution_count": 3,
   "metadata": {},
   "outputs": [
    {
     "data": {
      "text/plain": [
       "['aboreachi',\n",
       " 'AbrahamGonzalez',\n",
       " 'acueductodebatopilas',\n",
       " 'ahumada',\n",
       " 'aldama',\n",
       " 'allende',\n",
       " 'Anahuac',\n",
       " 'aquilesserdan']"
      ]
     },
     "execution_count": 3,
     "metadata": {},
     "output_type": "execute_result"
    }
   ],
   "source": [
    "client = tweepy.Client(bearer_token='AAAAAAAAAAAAAAAAAAAAAFcaVAEAAAAAqJhk9TI%2BB4%2FxMWGW4vT%2FkJWhpCg%3DjVD4g7oSNNbIvapvZZbdCzLvrsulmuv7hehSjThvf9QoVB5rzu')\n",
    "api = tweepy.API('AAAAAAAAAAAAAAAAAAAAAFcaVAEAAAAAqJhk9TI%2BB4%2FxMWGW4vT%2FkJWhpCg%3DjVD4g7oSNNbIvapvZZbdCzLvrsulmuv7hehSjThvf9QoVB5rzu', wait_on_rate_limit=True)\n",
    "querys = controllers.Hashtags_controller().get_hashtags()\n",
    "querys[0:8]"
   ]
  },
  {
   "cell_type": "code",
   "execution_count": 4,
   "metadata": {},
   "outputs": [],
   "source": [
    "def get_list(_query):    \n",
    "    return client.search_recent_tweets(query=_query, tweet_fields=['created_at','context_annotations'], max_results=10)  \n",
    "\n",
    "def get_data(querys) -> dict:\n",
    "    data = {query: get_list(query) for query in querys}\n",
    "    return data"
   ]
  },
  {
   "cell_type": "code",
   "execution_count": 5,
   "metadata": {},
   "outputs": [],
   "source": [
    "data = get_list(\"aquilesserdan\")"
   ]
  },
  {
   "cell_type": "code",
   "execution_count": 13,
   "metadata": {},
   "outputs": [
    {
     "name": "stdout",
     "output_type": "stream",
     "text": [
      "Error:  104\n",
      "Error:  117\n",
      "Error:  185\n",
      "Error:  215\n",
      "Error:  216\n",
      "Error:  281\n",
      "Error:  322\n",
      "Error:  450\n",
      "Error:  587\n",
      "Error:  651\n",
      "Error:  677\n",
      "Error:  733\n",
      "Error:  784\n",
      "Error:  784\n",
      "Error:  787\n",
      "Error:  987\n",
      "Error:  987\n",
      "Error:  1025\n",
      "Error:  1127\n",
      "Error:  1131\n"
     ]
    }
   ],
   "source": [
    "count = 0\n",
    "for query in querys:\n",
    "    if(data[query].meta['result_count'] != 0):\n",
    "        for tweet in data[query].data:\n",
    "            try:\n",
    "                controllers.Tweets_controller().insert_tweet(tweet.text, query)\n",
    "                count = count + 1\n",
    "            except:\n",
    "                print('Error: ', count)\n",
    "\n"
   ]
  },
  {
   "cell_type": "code",
   "execution_count": 6,
   "metadata": {},
   "outputs": [],
   "source": [
    "time = data.data[0].created_at"
   ]
  },
  {
   "cell_type": "code",
   "execution_count": 7,
   "metadata": {},
   "outputs": [
    {
     "data": {
      "text/plain": [
       "1"
      ]
     },
     "execution_count": 7,
     "metadata": {},
     "output_type": "execute_result"
    }
   ],
   "source": [
    "controllers.Tweets_controller().insert_tweet(\"test\", \"test\", time)"
   ]
  },
  {
   "cell_type": "code",
   "execution_count": null,
   "metadata": {},
   "outputs": [],
   "source": []
  }
 ],
 "metadata": {
  "kernelspec": {
   "display_name": "Python 3.10.5 ('venv': venv)",
   "language": "python",
   "name": "python3"
  },
  "language_info": {
   "codemirror_mode": {
    "name": "ipython",
    "version": 3
   },
   "file_extension": ".py",
   "mimetype": "text/x-python",
   "name": "python",
   "nbconvert_exporter": "python",
   "pygments_lexer": "ipython3",
   "version": "3.10.5"
  },
  "orig_nbformat": 4,
  "vscode": {
   "interpreter": {
    "hash": "310091f6ad304c64c3b85e74ec3d078e997bdc3b5343f6559464924c48e0aed8"
   }
  }
 },
 "nbformat": 4,
 "nbformat_minor": 2
}
